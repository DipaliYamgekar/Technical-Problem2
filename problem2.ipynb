{
 "cells": [
  {
   "cell_type": "code",
   "execution_count": 15,
   "id": "4f0ba94a",
   "metadata": {},
   "outputs": [
    {
     "name": "stdout",
     "output_type": "stream",
     "text": [
      "Valid Triangle\n",
      "Valid Rectangle\n"
     ]
    }
   ],
   "source": [
    "def checkValidity(a, b, c):\n",
    "     \n",
    "    \n",
    "    if (a + b <= c) or (a + c <= b) or (b + c <= a) :\n",
    "        return False\n",
    "    else:\n",
    "        return True       \n",
    " \n",
    "\n",
    "a = 3\n",
    "b = 4\n",
    "c = 5\n",
    "if checkValidity(a, b, c):\n",
    "    print(\"Valid Triangle\")\n",
    "else:\n",
    "    print(\"Invalid Triangle\")\n",
    "\n",
    "def isRectangle(a, b, c, d):\n",
    " \n",
    "    \n",
    "    if (a == b and d == c) or (a == c and b == d) or (a == d and b == c):\n",
    "        return True\n",
    "    else:\n",
    "        return False\n",
    " \n",
    " \n",
    "\n",
    "a, b, c, d = 2, 4, 2, 4\n",
    "print(\"Valid Rectangle\" if isRectangle(a, b, c, d) else \"Invalid Rectangle\")"
   ]
  },
  {
   "cell_type": "code",
   "execution_count": null,
   "id": "c047383a",
   "metadata": {},
   "outputs": [],
   "source": []
  }
 ],
 "metadata": {
  "kernelspec": {
   "display_name": "Python 3 (ipykernel)",
   "language": "python",
   "name": "python3"
  },
  "language_info": {
   "codemirror_mode": {
    "name": "ipython",
    "version": 3
   },
   "file_extension": ".py",
   "mimetype": "text/x-python",
   "name": "python",
   "nbconvert_exporter": "python",
   "pygments_lexer": "ipython3",
   "version": "3.9.12"
  }
 },
 "nbformat": 4,
 "nbformat_minor": 5
}
